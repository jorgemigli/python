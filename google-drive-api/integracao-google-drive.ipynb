{
 "cells": [
  {
   "cell_type": "markdown",
   "metadata": {},
   "source": [
    "# Ambiente virtual"
   ]
  },
  {
   "cell_type": "markdown",
   "metadata": {},
   "source": [
    "## Criação"
   ]
  },
  {
   "cell_type": "markdown",
   "metadata": {},
   "source": [
    "### Em um terminal já na pasta do projeto execute o seguinte comando:\n",
    "#### Linux:\n",
    "##### python3 -m venv venv\n",
    "#### Windows:\n",
    "##### python -m venv venv"
   ]
  },
  {
   "cell_type": "markdown",
   "metadata": {},
   "source": [
    "## Ativação"
   ]
  },
  {
   "cell_type": "markdown",
   "metadata": {},
   "source": [
    "### Linux \n",
    "#### source venv/bin/activate\n",
    "### Windows \n",
    "#### venv\\Scripts\\Activate\n",
    "### Caso algum comando retorne um erro de permissão execute o código e tente novamente: \n",
    "#### Set-ExecutionPolicy -Scope CurrentUser -ExecutionPolicy RemoteSigned"
   ]
  },
  {
   "cell_type": "markdown",
   "metadata": {},
   "source": [
    "# Bibliotecas"
   ]
  },
  {
   "cell_type": "markdown",
   "metadata": {},
   "source": [
    "##### pip install google-auth google-auth-oauthlib google-auth-httplib2 google-api-python-client"
   ]
  },
  {
   "cell_type": "markdown",
   "metadata": {},
   "source": [
    "# Credenciais"
   ]
  },
  {
   "cell_type": "markdown",
   "metadata": {},
   "source": [
    "##### 1- Acesse a Console de Desenvolvedores do Google. \n",
    "##### 2- Crie um novo projeto. \n",
    "##### 3- Ative a API do Google Drive para o projeto.\n",
    "##### 4- Crie credenciais de serviço e faça o download do arquivo JSON. \n",
    "##### 5- Coloque o arquivo JSON na pasta do projeto. "
   ]
  },
  {
   "cell_type": "markdown",
   "metadata": {},
   "source": [
    "# Código"
   ]
  },
  {
   "cell_type": "markdown",
   "metadata": {},
   "source": [
    "## Listagem"
   ]
  },
  {
   "cell_type": "code",
   "execution_count": null,
   "metadata": {},
   "outputs": [],
   "source": [
    "from google.oauth2 import service_account\n",
    "from googleapiclient.discovery import build\n",
    "\n",
    "# Configurar credenciais\n",
    "credentials = service_account.Credentials.from_service_account_file('caminho/para/arquivo.json', scopes=['https://www.googleapis.com/auth/drive'])\n",
    "\n",
    "# Criar serviço do Google Drive\n",
    "drive_service = build('drive', 'v3', credentials=credentials)\n",
    "\n",
    "# Exemplo: listar arquivos\n",
    "results = drive_service.files().list().execute()\n",
    "files = results.get('files', [])\n",
    "\n",
    "if not files:\n",
    "    print('Nenhum arquivo encontrado.')\n",
    "else:\n",
    "    print('Arquivos:')\n",
    "    for file in files:\n",
    "        print(f\"{file['name']} ({file['id']})\")"
   ]
  },
  {
   "cell_type": "markdown",
   "metadata": {},
   "source": [
    "## Envio"
   ]
  },
  {
   "cell_type": "code",
   "execution_count": null,
   "metadata": {},
   "outputs": [],
   "source": [
    "# Importar bibliotecas necessárias\n",
    "from google.oauth2 import service_account\n",
    "from googleapiclient.discovery import build\n",
    "from googleapiclient.http import MediaFileUpload\n",
    "\n",
    "# Configurar credenciais\n",
    "credentials = service_account.Credentials.from_service_account_file('caminho/para/arquivo.json', scopes=['https://www.googleapis.com/auth/drive'])\n",
    "\n",
    "# Criar serviço do Google Drive\n",
    "drive_service = build('drive', 'v3', credentials=credentials)\n",
    "\n",
    "def upload_arquivo(caminho_do_arquivo, nome_do_arquivo_no_drive):\n",
    "    # Criar um objeto de mídia para upload\n",
    "    media = MediaFileUpload(caminho_do_arquivo, resumable=True)\n",
    "\n",
    "    # Parâmetros para a solicitação de upload\n",
    "    request = drive_service.files().create(\n",
    "        media_body=media,\n",
    "        body={'name': nome_do_arquivo_no_drive}\n",
    "    )\n",
    "\n",
    "    # Executar a solicitação de upload\n",
    "    response = None\n",
    "    while response is None:\n",
    "        status, response = request.next_chunk()\n",
    "        if status:\n",
    "            print(f\"Progresso do Upload: {int(status.progress() * 100)}%\")\n",
    "\n",
    "    print(f\"Upload do arquivo '{nome_do_arquivo_no_drive}' concluído.\")\n",
    "\n",
    "# Exemplo de uso\n",
    "upload_arquivo('caminho/do/arquivo/local.txt', 'arquivo_no_drive.txt')"
   ]
  },
  {
   "cell_type": "markdown",
   "metadata": {},
   "source": [
    "## Download "
   ]
  },
  {
   "cell_type": "code",
   "execution_count": null,
   "metadata": {},
   "outputs": [],
   "source": [
    "# Importar bibliotecas necessárias\n",
    "from google.oauth2 import service_account\n",
    "from googleapiclient.discovery import build\n",
    "from googleapiclient.http import MediaIoBaseDownload\n",
    "import io\n",
    "\n",
    "# Configurar credenciais\n",
    "credentials = service_account.Credentials.from_service_account_file('caminho/para/arquivo.json', scopes=['https://www.googleapis.com/auth/drive'])\n",
    "\n",
    "# Criar serviço do Google Drive\n",
    "drive_service = build('drive', 'v3', credentials=credentials)\n",
    "\n",
    "def download_arquivo(id_do_arquivo, caminho_de_destino):\n",
    "    try:\n",
    "        # Fazer uma solicitação para obter informações sobre o arquivo\n",
    "        arquivo = drive_service.files().get(fileId=id_do_arquivo).execute()\n",
    "\n",
    "        # Preparar o stream para o download\n",
    "        request = drive_service.files().get_media(fileId=id_do_arquivo)\n",
    "        fh = io.FileIO(caminho_de_destino, 'wb')\n",
    "        downloader = MediaIoBaseDownload(fh, request)\n",
    "\n",
    "        # Executar o download\n",
    "        done = False\n",
    "        while done is False:\n",
    "            status, done = downloader.next_chunk()\n",
    "            print(f\"Progresso do Download: {int(status.progress() * 100)}%\")\n",
    "\n",
    "        print(f\"Download do arquivo '{arquivo['name']}' concluído. Salvo em '{caminho_de_destino}'.\")\n",
    "\n",
    "    except Exception as e:\n",
    "        print(f\"Erro ao fazer download do arquivo: {e}\")\n",
    "\n",
    "# Exemplo de uso (certifique-se de substituir 'ID_DO_ARQUIVO' pelo ID real do arquivo no Google Drive)\n",
    "download_arquivo('ID_DO_ARQUIVO', 'caminho/do/arquivo/local_baixado.txt')"
   ]
  },
  {
   "cell_type": "markdown",
   "metadata": {},
   "source": [
    "## Deleção"
   ]
  },
  {
   "cell_type": "code",
   "execution_count": null,
   "metadata": {},
   "outputs": [],
   "source": [
    "def deletar_arquivo(id_do_arquivo):\n",
    "    try:\n",
    "        # Executar a solicitação de deleção\n",
    "        drive_service.files().delete(fileId=id_do_arquivo).execute()\n",
    "        print(f\"Arquivo com ID {id_do_arquivo} deletado com sucesso.\")\n",
    "    except Exception as e:\n",
    "        print(f\"Erro ao deletar arquivo: {e}\")\n",
    "\n",
    "# Exemplo de uso (certifique-se de substituir 'ID_DO_ARQUIVO' pelo ID real do arquivo no Google Drive)\n",
    "deletar_arquivo('ID_DO_ARQUIVO')"
   ]
  }
 ],
 "metadata": {
  "kernelspec": {
   "display_name": "Python 3",
   "language": "python",
   "name": "python3"
  },
  "language_info": {
   "codemirror_mode": {
    "name": "ipython",
    "version": 3
   },
   "file_extension": ".py",
   "mimetype": "text/x-python",
   "name": "python",
   "nbconvert_exporter": "python",
   "pygments_lexer": "ipython3",
   "version": "3.10.4"
  }
 },
 "nbformat": 4,
 "nbformat_minor": 2
}
