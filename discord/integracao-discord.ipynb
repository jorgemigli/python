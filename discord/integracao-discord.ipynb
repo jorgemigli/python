{
 "cells": [
  {
   "cell_type": "markdown",
   "metadata": {},
   "source": [
    "# Guia de Integração do Discord com Python"
   ]
  },
  {
   "cell_type": "markdown",
   "metadata": {},
   "source": [
    "## Configuração do Discord"
   ]
  },
  {
   "cell_type": "markdown",
   "metadata": {},
   "source": [
    "#### Criar um Aplicativo no Discord\n",
    "1- Acesse o Painel de Desenvolvedor do Discord.\n",
    "\n",
    "2- Clique em \"New Application\" no canto superior direito.\n",
    "\n",
    "3- Dê um nome ao seu aplicativo e clique em \"Create\".\n",
    "\n",
    "4- No painel lateral esquerdo, selecione \"Bot\" e clique em \"Add Bot\". Confirme a adição do bot.\n",
    "\n",
    "5- Abaixo da seção \"Token\", clique em \"Copy\" para copiar o token do seu bot.\n",
    "\n",
    "#### Agora você tem um aplicativo Discord e um bot associado a ele, com o token necessário para autenticação no seu script Python.\n",
    "Lembre-se de manter o token do seu bot em local seguro e nunca compartilhá-lo publicamente.\n",
    "Se o token for comprometido, regenere-o imediatamente no Painel de Desenvolvedor do Discord."
   ]
  },
  {
   "cell_type": "markdown",
   "metadata": {},
   "source": [
    "## Configuração do Ambiente virtual"
   ]
  },
  {
   "cell_type": "markdown",
   "metadata": {},
   "source": [
    "##### Linux:\n",
    "1- python3 -m venv venv\n",
    "\n",
    "2- source venv/bin/activate\n",
    "\n",
    "##### Windows:\n",
    "1- python -m venv venv\n",
    "\n",
    "2- venv\\Scripts\\Activate\n",
    "\n",
    "##### Caso retorne erro de permissão no windows execute o código e tente novamente:\n",
    "Set-ExecutionPolicy -Scope CurrentUser -ExecutionPolicy RemoteSigned"
   ]
  },
  {
   "cell_type": "markdown",
   "metadata": {},
   "source": [
    "## Biblioteca necessária\n",
    "\n",
    "pip install discord.py"
   ]
  },
  {
   "cell_type": "markdown",
   "metadata": {},
   "source": [
    "## Código"
   ]
  },
  {
   "cell_type": "code",
   "execution_count": null,
   "metadata": {},
   "outputs": [],
   "source": [
    "import discord\n",
    "from discord.ext import commands\n",
    "\n",
    "# Configurações\n",
    "TOKEN = 'seu_token_aqui'\n",
    "bot = commands.Bot(command_prefix='!')\n",
    "\n",
    "# Eventos\n",
    "@bot.event\n",
    "async def on_ready():\n",
    "    print(f'Bot conectado como {bot.user.name}')\n",
    "\n",
    "# Comandos\n",
    "@bot.command(name='hello', help='Cumprimenta o usuário')\n",
    "async def hello(ctx):\n",
    "    await ctx.send(f'Olá, {ctx.author.name}!')\n",
    "\n",
    "# Execução do Bot\n",
    "bot.run(TOKEN)"
   ]
  },
  {
   "cell_type": "markdown",
   "metadata": {},
   "source": [
    "### Envio de arquivos"
   ]
  },
  {
   "cell_type": "code",
   "execution_count": null,
   "metadata": {},
   "outputs": [],
   "source": [
    "import discord\n",
    "from discord.ext import commands\n",
    "\n",
    "# Configurações\n",
    "TOKEN = 'seu_token_aqui'\n",
    "bot = commands.Bot(command_prefix='!')\n",
    "\n",
    "@bot.event\n",
    "async def on_ready():\n",
    "    print(f'Bot conectado como {bot.user.name}')\n",
    "\n",
    "@bot.command(name='enviar_arquivo', help='Envia um arquivo para o canal')\n",
    "async def enviar_arquivo(ctx):\n",
    "    # Verifica se foi anexado um arquivo à mensagem\n",
    "    if len(ctx.message.attachments) == 0:\n",
    "        await ctx.send(\"Por favor, anexe um arquivo à mensagem.\")\n",
    "        return\n",
    "    \n",
    "    # Pega o primeiro arquivo anexado\n",
    "    anexo = ctx.message.attachments[0]\n",
    "\n",
    "    # Cria um objeto File a partir do anexo\n",
    "    arquivo = await anexo.to_file()\n",
    "\n",
    "    # Envia o arquivo para o canal\n",
    "    await ctx.send(file=arquivo)\n",
    "\n",
    "# Execução do Bot\n",
    "bot.run(TOKEN)"
   ]
  },
  {
   "cell_type": "markdown",
   "metadata": {},
   "source": [
    "# Observação"
   ]
  },
  {
   "cell_type": "markdown",
   "metadata": {},
   "source": [
    "Por se tratar de uma função assincrona é necessário rodar o código desenvolvido fora do ambiente jupyter notebook, \n",
    "Crie portanto um arquivo .py e rode no terminal."
   ]
  }
 ],
 "metadata": {
  "kernelspec": {
   "display_name": "Python 3",
   "language": "python",
   "name": "python3"
  },
  "language_info": {
   "codemirror_mode": {
    "name": "ipython",
    "version": 3
   },
   "file_extension": ".py",
   "mimetype": "text/x-python",
   "name": "python",
   "nbconvert_exporter": "python",
   "pygments_lexer": "ipython3",
   "version": "3.10.4"
  }
 },
 "nbformat": 4,
 "nbformat_minor": 2
}
