{
 "cells": [
  {
   "cell_type": "markdown",
   "metadata": {},
   "source": [
    "# Bibliotecas"
   ]
  },
  {
   "cell_type": "code",
   "execution_count": 1,
   "metadata": {},
   "outputs": [],
   "source": [
    "import sqlite3"
   ]
  },
  {
   "cell_type": "code",
   "execution_count": 2,
   "metadata": {},
   "outputs": [],
   "source": [
    "#### Conecta com o banco caso o mesmo exista senão será criado ####\n",
    "conexao_banco = sqlite3.connect('banco_dados_api.db')\n",
    "\n",
    "#### Aponta para o banco ####\n",
    "cursor = conexao_banco.cursor()"
   ]
  },
  {
   "cell_type": "code",
   "execution_count": 3,
   "metadata": {},
   "outputs": [
    {
     "data": {
      "text/plain": [
       "<sqlite3.Cursor at 0x27c47f03740>"
      ]
     },
     "execution_count": 3,
     "metadata": {},
     "output_type": "execute_result"
    }
   ],
   "source": [
    "#### Query de criação da tabela ####\n",
    "query_criacao_tabela = '''\n",
    "            CREATE TABLE log_api (\n",
    "                id INTEGER NOT NULL PRIMARY KEY AUTOINCREMENT,\n",
    "                inputs_fornecidos TEXT, \n",
    "                inicio_sessao TEXT,\n",
    "                fim_sessao TEXT,\n",
    "                processamento TEXT,\n",
    "                valor_aluguel TEXT\n",
    "            )\n",
    "        '''\n",
    "\n",
    "#### Executando query ####\n",
    "cursor.execute(query_criacao_tabela)"
   ]
  },
  {
   "cell_type": "code",
   "execution_count": 6,
   "metadata": {},
   "outputs": [
    {
     "data": {
      "text/plain": [
       "[(1,\n",
       "  '25.0;1.0;1.0;0.0;0.0;0.0;0.0;0.0;84.0',\n",
       "  '2024-01-05 14:51:14.213272',\n",
       "  '2024-01-05 14:51:14.220253',\n",
       "  '0:00:00.006981',\n",
       "  '[1523.22792044]')]"
      ]
     },
     "execution_count": 6,
     "metadata": {},
     "output_type": "execute_result"
    }
   ],
   "source": [
    "#### Query de consulta ####\n",
    "query_consulta_tabela = ''' SELECT * FROM log_api '''\n",
    "\n",
    "#### Executando a query ####\n",
    "cursor.execute(query_consulta_tabela).fetchall()"
   ]
  },
  {
   "cell_type": "code",
   "execution_count": null,
   "metadata": {},
   "outputs": [],
   "source": [
    "# #### Query de inserção ####\n",
    "# query_insercao_dados = ''' \n",
    "#                 INSERT INTO log_api (inputs, inicio_sessao, fim_sessao, tempo_processamento, valor_aluguel)\n",
    "#                 VALUES ( )\n",
    "#  '''\n",
    "\n",
    "# #### Executando a query ####\n",
    "# cursor.execute(query_insercao_dados)\n",
    "\n",
    "# #### Commit ####\n",
    "# conexao_banco.commit()"
   ]
  }
 ],
 "metadata": {
  "kernelspec": {
   "display_name": "Python 3",
   "language": "python",
   "name": "python3"
  },
  "language_info": {
   "codemirror_mode": {
    "name": "ipython",
    "version": 3
   },
   "file_extension": ".py",
   "mimetype": "text/x-python",
   "name": "python",
   "nbconvert_exporter": "python",
   "pygments_lexer": "ipython3",
   "version": "3.10.4"
  }
 },
 "nbformat": 4,
 "nbformat_minor": 2
}
