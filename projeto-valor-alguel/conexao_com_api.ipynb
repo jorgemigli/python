{
 "cells": [
  {
   "cell_type": "code",
   "execution_count": 12,
   "metadata": {},
   "outputs": [],
   "source": [
    "import requests"
   ]
  },
  {
   "cell_type": "code",
   "execution_count": 14,
   "metadata": {},
   "outputs": [
    {
     "data": {
      "text/plain": [
       "{'Valor do aluguel previsto:': '[1523.22792044]'}"
      ]
     },
     "execution_count": 14,
     "metadata": {},
     "output_type": "execute_result"
    }
   ],
   "source": [
    "#### Caminho da url ####\n",
    "\n",
    "route = 'API_PREDITIVO'\n",
    "parametro = '25;1;1;0;0;0;0;0;84'\n",
    "\n",
    "url = f'http://127.0.0.1:5000/{route}/{parametro}'\n",
    "\n",
    "#### Conexão ####\n",
    "consulta = requests.get(url=url)\n",
    "\n",
    "#### Resultado ####\n",
    "resposta = consulta.json()\n",
    "resposta"
   ]
  },
  {
   "cell_type": "code",
   "execution_count": null,
   "metadata": {},
   "outputs": [],
   "source": []
  }
 ],
 "metadata": {
  "kernelspec": {
   "display_name": "Python 3",
   "language": "python",
   "name": "python3"
  },
  "language_info": {
   "codemirror_mode": {
    "name": "ipython",
    "version": 3
   },
   "file_extension": ".py",
   "mimetype": "text/x-python",
   "name": "python",
   "nbconvert_exporter": "python",
   "pygments_lexer": "ipython3",
   "version": "3.10.4"
  }
 },
 "nbformat": 4,
 "nbformat_minor": 2
}
